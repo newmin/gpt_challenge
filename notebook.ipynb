{
 "cells": [
  {
   "cell_type": "code",
   "execution_count": 22,
   "metadata": {},
   "outputs": [],
   "source": [
    "from langchain.llms import OpenAI\n",
    "from langchain.chat_models import ChatOpenAI\n",
    "from langchain.prompts import PromptTemplate,ChatPromptTemplate\n",
    "\n",
    "llm = OpenAI(model=\"gpt-3.5-turbo\")\n",
    "poem_chat = ChatOpenAI(temperature=1.0)\n",
    "explain_chat = ChatOpenAI(temperature=0.1)\n",
    "\n",
    "poem_template = ChatPromptTemplate.from_messages([\n",
    "    (\"system\",\"너는 시인이야. 너는 스스로 {author} 작가라고 믿고 있어.\"),\n",
    "    (\"human\",\"{subject}와 관련된 시를 써줘\"),\n",
    "])\n"
   ]
  },
  {
   "cell_type": "code",
   "execution_count": 23,
   "metadata": {},
   "outputs": [],
   "source": [
    "explain_template = ChatPromptTemplate.from_messages([\n",
    "    (\"system\",\"너는 국어선생님이야. 수능출제를 위해 이 시를 분석해서 설명해줘. 시의 주제나 시점, 기법 등 문제 출제에 도움이 될만한 부분을 캐치해줘. 다만 시를 너무 변형해서는 안되고, 캐치할 부분을 모르겠다면, 아는 부분만 답변해주면 돼.\"),\n",
    "    (\"human\",\"{poem}\"),\n",
    "])"
   ]
  },
  {
   "cell_type": "code",
   "execution_count": 24,
   "metadata": {},
   "outputs": [],
   "source": [
    "from langchain.schema import BaseOutputParser\n",
    "\n",
    "class CommaOutputParser(BaseOutputParser):\n",
    "    def parse(self,text):\n",
    "        items = text.strip().split(\",\")\n",
    "        return list(map(str.strip,items))\n",
    "    "
   ]
  },
  {
   "cell_type": "code",
   "execution_count": 25,
   "metadata": {},
   "outputs": [],
   "source": [
    "poem_chain = poem_template | poem_chat \n",
    "\n",
    "explain_chain = explain_template | explain_chat\n",
    "\n",
    "final_chain = {\"poem\":poem_chain} | explain_chain "
   ]
  },
  {
   "cell_type": "code",
   "execution_count": null,
   "metadata": {},
   "outputs": [
    {
     "data": {
      "text/plain": [
       "AIMessage(content='이 시는 ECMAScript(JavaScript)에 대한 찬양과 그것이 프로그래밍 세계에서 어떤 역할을 하는지를 노래한 것으로 보입니다. 시인은 ECMAScript 코드의 달콤함과 끊임없는 노고를 강조하며, 변수, 함수, 객체, 배열이 마치 춤추고 노래하며 감각적인 프로그래밍의 세계를 만들어가는 모습을 묘사하고 있습니다.\\n\\n이 시는 프로그래밍 언어인 ECMAScript(JavaScript)의 매력을 표현하고 있으며, 프로그래밍이라는 분야에서도 예술적인 측면이 있다는 것을 강조하고 있습니다. 이 시를 통해 ECMAScript(JavaScript)가 얼마나 다양하고 창의적인 프로그래밍을 가능하게 하는지를 강조할 수 있습니다. 또한, 시인이 사용한 은유와 상징들을 통해 ECMAScript(JavaScript)의 특징을 설명하고, 이를 통해 프로그래밍에 대한 열정과 창의성을 표현할 수 있을 것입니다.')"
      ]
     },
     "execution_count": 27,
     "metadata": {},
     "output_type": "execute_result"
    }
   ],
   "source": [
    "final_chain.invoke({\n",
    "    \"author\" : \"한강\",\n",
    "    \"subject\" : \"ECMASCRIPT\",\n",
    "})"
   ]
  }
 ],
 "metadata": {
  "kernelspec": {
   "display_name": "env",
   "language": "python",
   "name": "python3"
  },
  "language_info": {
   "codemirror_mode": {
    "name": "ipython",
    "version": 3
   },
   "file_extension": ".py",
   "mimetype": "text/x-python",
   "name": "python",
   "nbconvert_exporter": "python",
   "pygments_lexer": "ipython3",
   "version": "3.11.6"
  }
 },
 "nbformat": 4,
 "nbformat_minor": 2
}
